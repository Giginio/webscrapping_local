{
 "cells": [
  {
   "cell_type": "code",
   "execution_count": 3,
   "metadata": {},
   "outputs": [],
   "source": [
    "import schedule\n",
    "import time\n",
    "import subprocess\n",
    "\n",
    "# pip install schedule"
   ]
  },
  {
   "cell_type": "code",
   "execution_count": 4,
   "metadata": {},
   "outputs": [],
   "source": [
    "def run_script():\n",
    "    try:\n",
    "        # Call the script using subprocess\n",
    "        subprocess.run([\"python\", \"py_job24scrap.py\"], check=True)\n",
    "        print(\"Script executed successfully.\")\n",
    "    except Exception as e:\n",
    "        print(f\"An error occurred: {e}\")"
   ]
  },
  {
   "cell_type": "code",
   "execution_count": 6,
   "metadata": {},
   "outputs": [
    {
     "name": "stdout",
     "output_type": "stream",
     "text": [
      "An error occurred: Command '['python', 'py_job24scrap.py']' returned non-zero exit status 1.\n"
     ]
    }
   ],
   "source": [
    "run_script()"
   ]
  },
  {
   "cell_type": "code",
   "execution_count": 8,
   "metadata": {},
   "outputs": [
    {
     "name": "stdout",
     "output_type": "stream",
     "text": [
      "An error occurred: Command '['python', 'py_job24scrap.py']' returned non-zero exit status 1.\n",
      "Error output: Traceback (most recent call last):\n",
      "  File \"c:\\Users\\Pierluigi\\Documents\\GitHub\\webscrapping_local\\py_job24scrap.py\", line 82, in <module>\n",
      "    source = get_html(url)\n",
      "             ^^^^^^^^^^^^^\n",
      "  File \"c:\\Users\\Pierluigi\\Documents\\GitHub\\webscrapping_local\\py_job24scrap.py\", line 32, in get_html\n",
      "    driver = webdriver.Chrome(service=service, options=opts)\n",
      "             ^^^^^^^^^^^^^^^^^^^^^^^^^^^^^^^^^^^^^^^^^^^^^^^\n",
      "  File \"c:\\Users\\Pierluigi\\anaconda3\\envs\\adsenv\\Lib\\site-packages\\selenium\\webdriver\\chrome\\webdriver.py\", line 45, in __init__\n",
      "    super().__init__(\n",
      "  File \"c:\\Users\\Pierluigi\\anaconda3\\envs\\adsenv\\Lib\\site-packages\\selenium\\webdriver\\chromium\\webdriver.py\", line 49, in __init__\n",
      "    self.service.path = DriverFinder.get_path(self.service, options)\n",
      "                        ^^^^^^^^^^^^^^^^^^^^^^^^^^^^^^^^^^^^^^^^^^^^\n",
      "  File \"c:\\Users\\Pierluigi\\anaconda3\\envs\\adsenv\\Lib\\site-packages\\selenium\\webdriver\\common\\driver_finder.py\", line 44, in get_path\n",
      "    raise NoSuchDriverException(f\"Unable to locate or obtain driver for {options.capabilities['browserName']}\")\n",
      "selenium.common.exceptions.NoSuchDriverException: Message: Unable to locate or obtain driver for chrome; For documentation on this error, please visit: https://www.selenium.dev/documentation/webdriver/troubleshooting/errors/driver_location\n",
      "\n",
      "\n"
     ]
    }
   ],
   "source": [
    "import subprocess\n",
    "\n",
    "try:\n",
    "    result = subprocess.run(\n",
    "        [\"python\", \"py_job24scrap.py\"],\n",
    "        check=True,\n",
    "        capture_output=True,\n",
    "        text=True\n",
    "    )\n",
    "    print(\"Output:\", result.stdout)\n",
    "except subprocess.CalledProcessError as e:\n",
    "    print(f\"An error occurred: {e}\")\n",
    "    print(\"Error output:\", e.stderr)"
   ]
  }
 ],
 "metadata": {
  "kernelspec": {
   "display_name": "adsenv",
   "language": "python",
   "name": "python3"
  },
  "language_info": {
   "codemirror_mode": {
    "name": "ipython",
    "version": 3
   },
   "file_extension": ".py",
   "mimetype": "text/x-python",
   "name": "python",
   "nbconvert_exporter": "python",
   "pygments_lexer": "ipython3",
   "version": "3.11.8"
  }
 },
 "nbformat": 4,
 "nbformat_minor": 2
}
