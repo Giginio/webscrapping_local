{
 "cells": [
  {
   "cell_type": "markdown",
   "metadata": {},
   "source": [
    "### Daily scedjuled tasks"
   ]
  },
  {
   "cell_type": "code",
   "execution_count": null,
   "metadata": {},
   "outputs": [],
   "source": [
    "import schedule\n",
    "import time\n",
    "import subprocess\n",
    "\n",
    "# Define the task to run your script\n",
    "def run_script_job24():\n",
    "    try:\n",
    "        result = subprocess.run(\n",
    "            [\"python\", \"py_job24scrap.py\"],  # Replace with your script name\n",
    "            check=True,\n",
    "            capture_output=True,\n",
    "            text=True\n",
    "        )\n",
    "        print(\"Script executed successfully.\")\n",
    "        print(\"Output:\", result.stdout)\n",
    "    except subprocess.CalledProcessError as e:\n",
    "        print(f\"An error occurred: {e}\")\n",
    "        print(\"Error output:\", e.stderr)\n",
    "\n",
    "# Define the task to run UBS script\n",
    "def run_script_ubs():\n",
    "    try:\n",
    "        result = subprocess.run(\n",
    "            [\"python\", \"py_ubscrap.py\"],  # Replace with your script name\n",
    "            check=True,\n",
    "            capture_output=True,\n",
    "            text=True\n",
    "        )\n",
    "        print(\"Script executed successfully.\")\n",
    "        print(\"Output:\", result.stdout)\n",
    "    except subprocess.CalledProcessError as e:\n",
    "        print(f\"An error occurred: {e}\")\n",
    "        print(\"Error output:\", e.stderr)\n",
    "\n",
    "# Schedule the task\n",
    "schedule.every().day.at(\"09:00\").do(run_script_job24)\n",
    "schedule.every().day.at(\"22:00\").do(run_script_ubs)  # Set the desired time (24-hour format)\n",
    "\n",
    "print(\"Scheduler is running. Press Ctrl+C to stop.\")\n",
    "\n",
    "# Keep the script running\n",
    "try:\n",
    "    while True:\n",
    "        schedule.run_pending()\n",
    "        time.sleep(1)  # Sleep to avoid high CPU usage\n",
    "#except KeyboardInterrupt:\n",
    "#    print(\"Scheduler stopped.\")\n"
   ]
  },
  {
   "cell_type": "code",
   "execution_count": null,
   "metadata": {},
   "outputs": [],
   "source": []
  }
 ],
 "metadata": {
  "kernelspec": {
   "display_name": "adsenv",
   "language": "python",
   "name": "python3"
  },
  "language_info": {
   "name": "python",
   "version": "3.11.8"
  }
 },
 "nbformat": 4,
 "nbformat_minor": 2
}
