{
 "cells": [
  {
   "cell_type": "code",
   "execution_count": 5,
   "metadata": {},
   "outputs": [
    {
     "name": "stdout",
     "output_type": "stream",
     "text": [
      "The network drive Z:/ is accessible.\n"
     ]
    }
   ],
   "source": [
    "import os\n",
    "\n",
    "# Check if the mapped network drive is accessible\n",
    "drive_path = \"Z:/\"\n",
    "\n",
    "# Check if the directory exists\n",
    "if os.path.exists(drive_path):\n",
    "    print(f\"The network drive {drive_path} is accessible.\")\n",
    "else:\n",
    "    print(f\"The network drive {drive_path} is NOT accessible.\")"
   ]
  },
  {
   "cell_type": "code",
   "execution_count": 3,
   "metadata": {},
   "outputs": [
    {
     "name": "stdout",
     "output_type": "stream",
     "text": [
      "Successfully wrote to the drive: Z:/test_write_access.txt\n"
     ]
    }
   ],
   "source": [
    "import os\n",
    "\n",
    "# Test if you can write to the mapped drive\n",
    "test_file_path = \"Z:/test_write_access.txt\"\n",
    "\n",
    "try:\n",
    "    # Try writing a test file\n",
    "    with open(test_file_path, 'w') as test_file:\n",
    "        test_file.write(\"This is a test to verify write access.\")\n",
    "    print(f\"Successfully wrote to the drive: {test_file_path}\")\n",
    "    \n",
    "    # Optionally, clean up after test\n",
    "    #  os.remove(test_file_path)\n",
    "    #  print(\"Test file deleted successfully.\")\n",
    "    \n",
    "except Exception as e:\n",
    "    print(f\"Error writing to the drive: {e}\")"
   ]
  },
  {
   "cell_type": "code",
   "execution_count": 7,
   "metadata": {},
   "outputs": [
    {
     "name": "stdout",
     "output_type": "stream",
     "text": [
      "                                               Job URL  \\\n",
      "0    https://jobs.ubs.com/TGnewUI/Search/home/HomeW...   \n",
      "1    https://jobs.ubs.com/TGnewUI/Search/home/HomeW...   \n",
      "2    https://jobs.ubs.com/TGnewUI/Search/home/HomeW...   \n",
      "3    https://jobs.ubs.com/TGnewUI/Search/home/HomeW...   \n",
      "4    https://jobs.ubs.com/TGnewUI/Search/home/HomeW...   \n",
      "..                                                 ...   \n",
      "135  https://jobs.ubs.com/TGnewUI/Search/home/HomeW...   \n",
      "136  https://jobs.ubs.com/TGnewUI/Search/home/HomeW...   \n",
      "137  https://jobs.ubs.com/TGnewUI/Search/home/HomeW...   \n",
      "138  https://jobs.ubs.com/TGnewUI/Search/home/HomeW...   \n",
      "139  https://jobs.ubs.com/TGnewUI/Search/home/HomeW...   \n",
      "\n",
      "                                          HTML Content  \\\n",
      "0    <html lang=\"de\" xml:lang=\"de\" class=\" js canva...   \n",
      "1    <html lang=\"de\" xml:lang=\"de\" class=\" js canva...   \n",
      "2    <html lang=\"de\" xml:lang=\"de\" class=\" js canva...   \n",
      "3    <html lang=\"de\" xml:lang=\"de\" class=\" js canva...   \n",
      "4    <html lang=\"fr\" xml:lang=\"fr\" class=\" js canva...   \n",
      "..                                                 ...   \n",
      "135  <html lang=\"de\" xml:lang=\"de\" class=\" js canva...   \n",
      "136  <html lang=\"de\" xml:lang=\"de\" class=\" js canva...   \n",
      "137  <html lang=\"it\" xml:lang=\"it\" class=\"js canvas...   \n",
      "138  <html lang=\"en-us\" xml:lang=\"en-us\" class=\" js...   \n",
      "139  <html lang=\"en-us\" xml:lang=\"en-us\" class=\" js...   \n",
      "\n",
      "                                             job title        Date  \n",
      "0    Mitarbeiter-/in Rechtsinkasso bei der BANK-now...  2024-11-17  \n",
      "1    KundenberaterIn Fahrzeugfinanzierung Garagenge...  2024-11-17  \n",
      "2    Kundenberater/in Fahrzeugfinanzierung Importeu...  2024-11-17  \n",
      "3    Experte/in im internationalen Zahlungsverkehr/...  2024-11-17  \n",
      "4             Credit Specialist Credit Quality Control  2024-11-17  \n",
      "..                                                 ...         ...  \n",
      "135  Risk Specialist CIC Advisory & Sales, befriste...  2024-11-17  \n",
      "136               Digital Client Manager Basel 60-100%  2024-11-17  \n",
      "137  Client Manager Digital Banking Support - Manno...  2024-11-17  \n",
      "138            Sr. Software Engineer in Mobile Banking  2024-11-17  \n",
      "139                                  Architecture Lead  2024-11-17  \n",
      "\n",
      "[140 rows x 4 columns]\n"
     ]
    }
   ],
   "source": [
    "import pandas as pd\n",
    "\n",
    "# Path to the .pkl file\n",
    "file_path = \"Z:/job_data_ubs_1.pkl\"\n",
    "\n",
    "# Read the .pkl file into a DataFrame\n",
    "df = pd.read_pickle(file_path)\n",
    "\n",
    "# Display the DataFrame\n",
    "print(df)"
   ]
  }
 ],
 "metadata": {
  "kernelspec": {
   "display_name": "adsenv",
   "language": "python",
   "name": "python3"
  },
  "language_info": {
   "codemirror_mode": {
    "name": "ipython",
    "version": 3
   },
   "file_extension": ".py",
   "mimetype": "text/x-python",
   "name": "python",
   "nbconvert_exporter": "python",
   "pygments_lexer": "ipython3",
   "version": "3.11.8"
  }
 },
 "nbformat": 4,
 "nbformat_minor": 2
}
